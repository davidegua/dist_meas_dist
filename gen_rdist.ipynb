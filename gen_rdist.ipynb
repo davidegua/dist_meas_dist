{
 "cells": [
  {
   "cell_type": "markdown",
   "metadata": {},
   "source": [
    "# generate random 2d distributions\n",
    "#### 1) define building blocks (e.g. lognormal and/or normal dist.) --> get N points distributed randomly in density inside known shapes\n",
    "#### 2) define how to combine them --> build new shapes\n",
    "#### 3) define how to distort the shapes "
   ]
  },
  {
   "cell_type": "code",
   "execution_count": 14,
   "metadata": {},
   "outputs": [],
   "source": [
    "import numpy as np\n",
    "from numpy.random import rand,lognormal,normal"
   ]
  },
  {
   "cell_type": "markdown",
   "metadata": {},
   "source": [
    "##1"
   ]
  },
  {
   "cell_type": "code",
   "execution_count": 73,
   "metadata": {},
   "outputs": [],
   "source": [
    "\"parameters\"\n",
    "Ngadi = 200\n",
    "Nlodi = 200\n",
    "Nptot = 50000\n",
    "\n",
    "Wegadi  = rand(Ngadi)\n",
    "Welodi  = rand(Nlodi)\n",
    "Wegadi = np.round(Wegadi/Wegadi.sum(),2)\n",
    "Welodi = np.round(Welodi/Welodi.sum(),2)\n",
    "Megadi = rand(Ngadi,2) * 0.5 + 0.25\n",
    "Melodi = rand(Nlodi,2) * 0.5 + 0.25\n",
    "Vagadi = rand(Ngadi,2) * 0.10\n",
    "Valodi = rand(Nlodi,2) * 0.10"
   ]
  },
  {
   "cell_type": "code",
   "execution_count": 74,
   "metadata": {},
   "outputs": [],
   "source": [
    "\"building blocks distributions\"\n",
    "bbga_list = []\n",
    "bblo_list = []\n",
    "\n",
    "for i in range(Ngadi):\n",
    "    xco = normal(Megadi[i,0],Vagadi[i,0], int(Nptot * Wegadi[i]))\n",
    "    yco = normal(Megadi[i,1],Vagadi[i,1], int(Nptot * Wegadi[i]))\n",
    "    bbga_list.append(np.vstack([xco,yco]))\n",
    "    \n",
    "for i in range(Nlodi):\n",
    "    xco = lognormal(Melodi[i,0],Valodi[i,0], int(Nptot * Welodi[i]))\n",
    "    yco = lognormal(Melodi[i,1],Valodi[i,1], int(Nptot * Welodi[i]))\n",
    "    bblo_list.append(np.vstack([xco,yco]))\n",
    "\n"
   ]
  },
  {
   "cell_type": "code",
   "execution_count": 75,
   "metadata": {},
   "outputs": [],
   "source": [
    "\"stack all together for a first visualisation\"\n",
    "ga_dist = bbga_list[0]\n",
    "for i in range(1,Ngadi):\n",
    "    ga_dist = np.hstack((ga_dist,bbga_list[i]))\n",
    "\n",
    "lo_dist = bbga_list[0]\n",
    "for i in range(1,Nlodi):\n",
    "    lo_dist = np.hstack((lo_dist,bblo_list[i]))\n",
    "\n",
    "lo_dist[0] = lo_dist[0]/lo_dist[0].max()\n",
    "lo_dist[1] = lo_dist[1]/lo_dist[1].max()"
   ]
  },
  {
   "cell_type": "code",
   "execution_count": 76,
   "metadata": {},
   "outputs": [
    {
     "data": {
      "image/png": "[encoded data removed]",
      "text/plain": [
       "<Figure size 432x288 with 1 Axes>"
      ]
     },
     "metadata": {
      "needs_background": "light"
     },
     "output_type": "display_data"
    },
    {
     "data": {
      "image/png": "[encoded data removed]",
      "text/plain": [
       "<Figure size 432x288 with 1 Axes>"
      ]
     },
     "metadata": {
      "needs_background": "light"
     },
     "output_type": "display_data"
    }
   ],
   "source": [
    "import matplotlib.pyplot as plt\n",
    "\n",
    "plt.figure(0)\n",
    "hga,xga,yga,imga = plt.hist2d(ga_dist[0],ga_dist[1],50)\n",
    "\n",
    "plt.figure(1)\n",
    "hlo,xlo,ylo,imlo = plt.hist2d(lo_dist[0],lo_dist[1],50)"
   ]
  },
  {
   "cell_type": "code",
   "execution_count": 46,
   "metadata": {},
   "outputs": [
    {
     "data": {
      "text/plain": [
       "array([0.30789396, 0.51395006, 0.67801701, 0.5283413 , 0.26102293,\n",
       "       0.67108492, 0.29062898, 0.35706809, 0.31606468, 0.38967636])"
      ]
     },
     "execution_count": 46,
     "metadata": {},
     "output_type": "execute_result"
    }
   ],
   "source": [
    "rand(10)*0.5 + 0.25"
   ]
  },
  {
   "cell_type": "code",
   "execution_count": null,
   "metadata": {},
   "outputs": [],
   "source": []
  }
 ],
 "metadata": {
  "kernelspec": {
   "display_name": "Python 2",
   "language": "python",
   "name": "python2"
  },
  "language_info": {
   "codemirror_mode": {
    "name": "ipython",
    "version": 2
   },
   "file_extension": ".py",
   "mimetype": "text/x-python",
   "name": "python",
   "nbconvert_exporter": "python",
   "pygments_lexer": "ipython2",
   "version": "2.7.16"
  }
 },
 "nbformat": 4,
 "nbformat_minor": 2
}
